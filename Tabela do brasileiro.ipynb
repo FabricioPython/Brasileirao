{
 "cells": [
  {
   "cell_type": "markdown",
   "id": "af3aff53",
   "metadata": {},
   "source": [
    "# Bibliotecas:"
   ]
  },
  {
   "cell_type": "markdown",
   "id": "a7e8615a",
   "metadata": {},
   "source": [
    "## Objetivo:\n",
    "\n",
    "_Remontar a tabela do brasileirão com o parsel._\n",
    "\n",
    "_Spoiler: ela é realmente mais prática que a bs4._"
   ]
  },
  {
   "cell_type": "code",
   "execution_count": 1,
   "id": "eae52bd8",
   "metadata": {},
   "outputs": [],
   "source": [
    "from parsel import Selector\n",
    "import requests\n",
    "import pandas as pd\n",
    "from datetime import date"
   ]
  },
  {
   "cell_type": "code",
   "execution_count": 2,
   "id": "a4345d17",
   "metadata": {},
   "outputs": [],
   "source": [
    "busca = requests.get(\"https://www.lance.com.br/tabela/brasileirao\")"
   ]
  },
  {
   "cell_type": "code",
   "execution_count": 3,
   "id": "9a672d96",
   "metadata": {},
   "outputs": [],
   "source": [
    "html = busca.text"
   ]
  },
  {
   "cell_type": "code",
   "execution_count": 4,
   "id": "b13945b8",
   "metadata": {},
   "outputs": [],
   "source": [
    "sel = Selector(text=html)"
   ]
  },
  {
   "cell_type": "code",
   "execution_count": 5,
   "id": "b9706858",
   "metadata": {},
   "outputs": [],
   "source": [
    "def parse_data(seletor):\n",
    "    rk = []\n",
    "    for item in seletor:\n",
    "        p = item.css('::text').getall()[0]\n",
    "        rk.append(p)\n",
    "    return rk"
   ]
  },
  {
   "cell_type": "markdown",
   "id": "fb113fed",
   "metadata": {},
   "source": [
    "# Classificação do times:"
   ]
  },
  {
   "cell_type": "code",
   "execution_count": 6,
   "id": "baf38586",
   "metadata": {},
   "outputs": [],
   "source": [
    "ranking = sel.css('span.styles_teamClassification__fVPxP')"
   ]
  },
  {
   "cell_type": "code",
   "execution_count": 7,
   "id": "be7c98c0",
   "metadata": {},
   "outputs": [],
   "source": [
    "rk = []\n",
    "for item in ranking:\n",
    "    p = item.css('::text').getall()[0]\n",
    "    rk.append(int(p))"
   ]
  },
  {
   "cell_type": "code",
   "execution_count": 8,
   "id": "a63337fe",
   "metadata": {},
   "outputs": [
    {
     "data": {
      "text/plain": [
       "[1, 2, 3, 4, 5, 6, 7, 8, 9, 10, 11, 12, 13, 14, 15, 16, 17, 18, 19, 20]"
      ]
     },
     "execution_count": 8,
     "metadata": {},
     "output_type": "execute_result"
    }
   ],
   "source": [
    "rk"
   ]
  },
  {
   "cell_type": "code",
   "execution_count": null,
   "id": "4ca99d20",
   "metadata": {},
   "outputs": [],
   "source": []
  },
  {
   "cell_type": "markdown",
   "id": "893638fe",
   "metadata": {},
   "source": [
    "# Nomes do Clubes:"
   ]
  },
  {
   "cell_type": "code",
   "execution_count": 9,
   "id": "9d61c87a",
   "metadata": {},
   "outputs": [],
   "source": [
    "clubes = sel.css('span.styles_teamName__QJ4sa')"
   ]
  },
  {
   "cell_type": "code",
   "execution_count": 10,
   "id": "5e7caabd",
   "metadata": {},
   "outputs": [
    {
     "data": {
      "text/plain": [
       "['Palmeiras',\n",
       " 'Grêmio',\n",
       " 'Atlético-MG',\n",
       " 'Flamengo',\n",
       " 'Botafogo',\n",
       " 'Red Bull Bragantino',\n",
       " 'Fluminense',\n",
       " 'Athletico-PR',\n",
       " 'Internacional',\n",
       " 'Fortaleza',\n",
       " 'São Paulo',\n",
       " 'Cuiabá',\n",
       " 'Corinthians',\n",
       " 'Cruzeiro',\n",
       " 'Vasco',\n",
       " 'Bahia',\n",
       " 'Santos',\n",
       " 'Goiás',\n",
       " 'Coritiba',\n",
       " 'América-MG']"
      ]
     },
     "execution_count": 10,
     "metadata": {},
     "output_type": "execute_result"
    }
   ],
   "source": [
    "parse_data(clubes)"
   ]
  },
  {
   "cell_type": "code",
   "execution_count": null,
   "id": "4c51771e",
   "metadata": {},
   "outputs": [],
   "source": []
  },
  {
   "cell_type": "markdown",
   "id": "acbe118d",
   "metadata": {},
   "source": [
    "# Pontos:"
   ]
  },
  {
   "cell_type": "code",
   "execution_count": 11,
   "id": "a6dd1351",
   "metadata": {},
   "outputs": [],
   "source": [
    "pontos = sel.css(\"div.styles_tableContentGrid__Nyval\")"
   ]
  },
  {
   "cell_type": "code",
   "execution_count": 12,
   "id": "22d8c97c",
   "metadata": {},
   "outputs": [
    {
     "data": {
      "text/plain": [
       "'70'"
      ]
     },
     "execution_count": 12,
     "metadata": {},
     "output_type": "execute_result"
    }
   ],
   "source": [
    "pontos.css('div.styles_td__avyCB::text').get()"
   ]
  },
  {
   "cell_type": "code",
   "execution_count": 13,
   "id": "adaf8324",
   "metadata": {},
   "outputs": [],
   "source": [
    "x = pontos.css('div.styles_td__avyCB::text').getall()"
   ]
  },
  {
   "cell_type": "code",
   "execution_count": 14,
   "id": "8ee2f528",
   "metadata": {},
   "outputs": [],
   "source": [
    "def chunks(lista, n):\n",
    "    inicio = 0\n",
    "    for i in range(n):\n",
    "        final = inicio + len(lista[i::n])\n",
    "        yield lista[inicio:final]\n",
    "        inicio = final"
   ]
  },
  {
   "cell_type": "code",
   "execution_count": 15,
   "id": "d301a49f",
   "metadata": {},
   "outputs": [],
   "source": [
    "dis_pontos = list(chunks(x, 20))\n"
   ]
  },
  {
   "cell_type": "code",
   "execution_count": 16,
   "id": "272ebfee",
   "metadata": {},
   "outputs": [],
   "source": [
    "dt_pontos = {}\n",
    "idx = 1\n",
    "for i in dis_pontos:\n",
    "    \n",
    "    dt_pontos[f'{idx}'] = i\n",
    "    idx+=1\n",
    "    "
   ]
  },
  {
   "cell_type": "markdown",
   "id": "10b88b9e",
   "metadata": {},
   "source": [
    "# Montagem da Tabela:"
   ]
  },
  {
   "cell_type": "code",
   "execution_count": 17,
   "id": "1c16af2e",
   "metadata": {},
   "outputs": [],
   "source": [
    "brasileiro = pd.DataFrame(dt_pontos)\n",
    "brasileiro = brasileiro.T"
   ]
  },
  {
   "cell_type": "code",
   "execution_count": 18,
   "id": "65de1355",
   "metadata": {},
   "outputs": [],
   "source": [
    "brasileiro.insert(0, 'Clubes', parse_data(clubes))"
   ]
  },
  {
   "cell_type": "code",
   "execution_count": 19,
   "id": "0efd1598",
   "metadata": {},
   "outputs": [],
   "source": [
    "brasileiro = brasileiro.rename(columns={0: 'Pontos', 1:\"Partidas Jogadas\", 2:\"Vitorias\", 3:\"Empates\", 4:\"Derrotas\", 5:\"Gols Marcados\", 6:\"Gols Contra\", 7:\"Saldo de Gols\", 8:\"%\"})"
   ]
  },
  {
   "cell_type": "code",
   "execution_count": 20,
   "id": "d2b861b9",
   "metadata": {},
   "outputs": [
    {
     "data": {
      "text/html": [
       "<div>\n",
       "<style scoped>\n",
       "    .dataframe tbody tr th:only-of-type {\n",
       "        vertical-align: middle;\n",
       "    }\n",
       "\n",
       "    .dataframe tbody tr th {\n",
       "        vertical-align: top;\n",
       "    }\n",
       "\n",
       "    .dataframe thead th {\n",
       "        text-align: right;\n",
       "    }\n",
       "</style>\n",
       "<table border=\"1\" class=\"dataframe\">\n",
       "  <thead>\n",
       "    <tr style=\"text-align: right;\">\n",
       "      <th></th>\n",
       "      <th>Clubes</th>\n",
       "      <th>Pontos</th>\n",
       "      <th>Partidas Jogadas</th>\n",
       "      <th>Vitorias</th>\n",
       "      <th>Empates</th>\n",
       "      <th>Derrotas</th>\n",
       "      <th>Gols Marcados</th>\n",
       "      <th>Gols Contra</th>\n",
       "      <th>Saldo de Gols</th>\n",
       "      <th>%</th>\n",
       "    </tr>\n",
       "  </thead>\n",
       "  <tbody>\n",
       "    <tr>\n",
       "      <th>1</th>\n",
       "      <td>Palmeiras</td>\n",
       "      <td>70</td>\n",
       "      <td>38</td>\n",
       "      <td>20</td>\n",
       "      <td>10</td>\n",
       "      <td>8</td>\n",
       "      <td>64</td>\n",
       "      <td>33</td>\n",
       "      <td>31</td>\n",
       "      <td>61</td>\n",
       "    </tr>\n",
       "    <tr>\n",
       "      <th>2</th>\n",
       "      <td>Grêmio</td>\n",
       "      <td>68</td>\n",
       "      <td>38</td>\n",
       "      <td>21</td>\n",
       "      <td>5</td>\n",
       "      <td>12</td>\n",
       "      <td>63</td>\n",
       "      <td>56</td>\n",
       "      <td>7</td>\n",
       "      <td>60</td>\n",
       "    </tr>\n",
       "    <tr>\n",
       "      <th>3</th>\n",
       "      <td>Atlético-MG</td>\n",
       "      <td>66</td>\n",
       "      <td>38</td>\n",
       "      <td>19</td>\n",
       "      <td>9</td>\n",
       "      <td>10</td>\n",
       "      <td>52</td>\n",
       "      <td>32</td>\n",
       "      <td>20</td>\n",
       "      <td>58</td>\n",
       "    </tr>\n",
       "    <tr>\n",
       "      <th>4</th>\n",
       "      <td>Flamengo</td>\n",
       "      <td>66</td>\n",
       "      <td>38</td>\n",
       "      <td>19</td>\n",
       "      <td>9</td>\n",
       "      <td>10</td>\n",
       "      <td>56</td>\n",
       "      <td>42</td>\n",
       "      <td>14</td>\n",
       "      <td>58</td>\n",
       "    </tr>\n",
       "    <tr>\n",
       "      <th>5</th>\n",
       "      <td>Botafogo</td>\n",
       "      <td>64</td>\n",
       "      <td>38</td>\n",
       "      <td>18</td>\n",
       "      <td>10</td>\n",
       "      <td>10</td>\n",
       "      <td>58</td>\n",
       "      <td>37</td>\n",
       "      <td>21</td>\n",
       "      <td>56</td>\n",
       "    </tr>\n",
       "    <tr>\n",
       "      <th>6</th>\n",
       "      <td>Red Bull Bragantino</td>\n",
       "      <td>62</td>\n",
       "      <td>38</td>\n",
       "      <td>17</td>\n",
       "      <td>11</td>\n",
       "      <td>10</td>\n",
       "      <td>49</td>\n",
       "      <td>35</td>\n",
       "      <td>14</td>\n",
       "      <td>54</td>\n",
       "    </tr>\n",
       "    <tr>\n",
       "      <th>7</th>\n",
       "      <td>Fluminense</td>\n",
       "      <td>56</td>\n",
       "      <td>38</td>\n",
       "      <td>16</td>\n",
       "      <td>8</td>\n",
       "      <td>14</td>\n",
       "      <td>51</td>\n",
       "      <td>47</td>\n",
       "      <td>4</td>\n",
       "      <td>49</td>\n",
       "    </tr>\n",
       "    <tr>\n",
       "      <th>8</th>\n",
       "      <td>Athletico-PR</td>\n",
       "      <td>56</td>\n",
       "      <td>38</td>\n",
       "      <td>14</td>\n",
       "      <td>14</td>\n",
       "      <td>10</td>\n",
       "      <td>51</td>\n",
       "      <td>43</td>\n",
       "      <td>8</td>\n",
       "      <td>49</td>\n",
       "    </tr>\n",
       "    <tr>\n",
       "      <th>9</th>\n",
       "      <td>Internacional</td>\n",
       "      <td>55</td>\n",
       "      <td>38</td>\n",
       "      <td>15</td>\n",
       "      <td>10</td>\n",
       "      <td>13</td>\n",
       "      <td>46</td>\n",
       "      <td>45</td>\n",
       "      <td>1</td>\n",
       "      <td>48</td>\n",
       "    </tr>\n",
       "    <tr>\n",
       "      <th>10</th>\n",
       "      <td>Fortaleza</td>\n",
       "      <td>54</td>\n",
       "      <td>38</td>\n",
       "      <td>15</td>\n",
       "      <td>9</td>\n",
       "      <td>14</td>\n",
       "      <td>45</td>\n",
       "      <td>44</td>\n",
       "      <td>1</td>\n",
       "      <td>47</td>\n",
       "    </tr>\n",
       "    <tr>\n",
       "      <th>11</th>\n",
       "      <td>São Paulo</td>\n",
       "      <td>53</td>\n",
       "      <td>38</td>\n",
       "      <td>14</td>\n",
       "      <td>11</td>\n",
       "      <td>13</td>\n",
       "      <td>40</td>\n",
       "      <td>38</td>\n",
       "      <td>2</td>\n",
       "      <td>46</td>\n",
       "    </tr>\n",
       "    <tr>\n",
       "      <th>12</th>\n",
       "      <td>Cuiabá</td>\n",
       "      <td>51</td>\n",
       "      <td>38</td>\n",
       "      <td>14</td>\n",
       "      <td>9</td>\n",
       "      <td>15</td>\n",
       "      <td>40</td>\n",
       "      <td>39</td>\n",
       "      <td>1</td>\n",
       "      <td>45</td>\n",
       "    </tr>\n",
       "    <tr>\n",
       "      <th>13</th>\n",
       "      <td>Corinthians</td>\n",
       "      <td>50</td>\n",
       "      <td>38</td>\n",
       "      <td>12</td>\n",
       "      <td>14</td>\n",
       "      <td>12</td>\n",
       "      <td>47</td>\n",
       "      <td>48</td>\n",
       "      <td>-1</td>\n",
       "      <td>44</td>\n",
       "    </tr>\n",
       "    <tr>\n",
       "      <th>14</th>\n",
       "      <td>Cruzeiro</td>\n",
       "      <td>47</td>\n",
       "      <td>38</td>\n",
       "      <td>11</td>\n",
       "      <td>14</td>\n",
       "      <td>13</td>\n",
       "      <td>35</td>\n",
       "      <td>32</td>\n",
       "      <td>3</td>\n",
       "      <td>41</td>\n",
       "    </tr>\n",
       "    <tr>\n",
       "      <th>15</th>\n",
       "      <td>Vasco</td>\n",
       "      <td>45</td>\n",
       "      <td>38</td>\n",
       "      <td>12</td>\n",
       "      <td>9</td>\n",
       "      <td>17</td>\n",
       "      <td>41</td>\n",
       "      <td>51</td>\n",
       "      <td>-10</td>\n",
       "      <td>39</td>\n",
       "    </tr>\n",
       "    <tr>\n",
       "      <th>16</th>\n",
       "      <td>Bahia</td>\n",
       "      <td>44</td>\n",
       "      <td>38</td>\n",
       "      <td>12</td>\n",
       "      <td>8</td>\n",
       "      <td>18</td>\n",
       "      <td>50</td>\n",
       "      <td>53</td>\n",
       "      <td>-3</td>\n",
       "      <td>39</td>\n",
       "    </tr>\n",
       "    <tr>\n",
       "      <th>17</th>\n",
       "      <td>Santos</td>\n",
       "      <td>43</td>\n",
       "      <td>38</td>\n",
       "      <td>11</td>\n",
       "      <td>10</td>\n",
       "      <td>17</td>\n",
       "      <td>39</td>\n",
       "      <td>64</td>\n",
       "      <td>-25</td>\n",
       "      <td>38</td>\n",
       "    </tr>\n",
       "    <tr>\n",
       "      <th>18</th>\n",
       "      <td>Goiás</td>\n",
       "      <td>38</td>\n",
       "      <td>38</td>\n",
       "      <td>9</td>\n",
       "      <td>11</td>\n",
       "      <td>18</td>\n",
       "      <td>36</td>\n",
       "      <td>53</td>\n",
       "      <td>-17</td>\n",
       "      <td>33</td>\n",
       "    </tr>\n",
       "    <tr>\n",
       "      <th>19</th>\n",
       "      <td>Coritiba</td>\n",
       "      <td>30</td>\n",
       "      <td>38</td>\n",
       "      <td>8</td>\n",
       "      <td>6</td>\n",
       "      <td>24</td>\n",
       "      <td>41</td>\n",
       "      <td>73</td>\n",
       "      <td>-32</td>\n",
       "      <td>26</td>\n",
       "    </tr>\n",
       "    <tr>\n",
       "      <th>20</th>\n",
       "      <td>América-MG</td>\n",
       "      <td>24</td>\n",
       "      <td>38</td>\n",
       "      <td>5</td>\n",
       "      <td>9</td>\n",
       "      <td>24</td>\n",
       "      <td>42</td>\n",
       "      <td>81</td>\n",
       "      <td>-39</td>\n",
       "      <td>21</td>\n",
       "    </tr>\n",
       "  </tbody>\n",
       "</table>\n",
       "</div>"
      ],
      "text/plain": [
       "                 Clubes Pontos Partidas Jogadas Vitorias Empates Derrotas  \\\n",
       "1             Palmeiras     70               38       20      10        8   \n",
       "2                Grêmio     68               38       21       5       12   \n",
       "3           Atlético-MG     66               38       19       9       10   \n",
       "4              Flamengo     66               38       19       9       10   \n",
       "5              Botafogo     64               38       18      10       10   \n",
       "6   Red Bull Bragantino     62               38       17      11       10   \n",
       "7            Fluminense     56               38       16       8       14   \n",
       "8          Athletico-PR     56               38       14      14       10   \n",
       "9         Internacional     55               38       15      10       13   \n",
       "10            Fortaleza     54               38       15       9       14   \n",
       "11            São Paulo     53               38       14      11       13   \n",
       "12               Cuiabá     51               38       14       9       15   \n",
       "13          Corinthians     50               38       12      14       12   \n",
       "14             Cruzeiro     47               38       11      14       13   \n",
       "15                Vasco     45               38       12       9       17   \n",
       "16                Bahia     44               38       12       8       18   \n",
       "17               Santos     43               38       11      10       17   \n",
       "18                Goiás     38               38        9      11       18   \n",
       "19             Coritiba     30               38        8       6       24   \n",
       "20           América-MG     24               38        5       9       24   \n",
       "\n",
       "   Gols Marcados Gols Contra Saldo de Gols   %  \n",
       "1             64          33            31  61  \n",
       "2             63          56             7  60  \n",
       "3             52          32            20  58  \n",
       "4             56          42            14  58  \n",
       "5             58          37            21  56  \n",
       "6             49          35            14  54  \n",
       "7             51          47             4  49  \n",
       "8             51          43             8  49  \n",
       "9             46          45             1  48  \n",
       "10            45          44             1  47  \n",
       "11            40          38             2  46  \n",
       "12            40          39             1  45  \n",
       "13            47          48            -1  44  \n",
       "14            35          32             3  41  \n",
       "15            41          51           -10  39  \n",
       "16            50          53            -3  39  \n",
       "17            39          64           -25  38  \n",
       "18            36          53           -17  33  \n",
       "19            41          73           -32  26  \n",
       "20            42          81           -39  21  "
      ]
     },
     "metadata": {},
     "output_type": "display_data"
    }
   ],
   "source": [
    "display(brasileiro)"
   ]
  },
  {
   "cell_type": "code",
   "execution_count": 21,
   "id": "3baf4634",
   "metadata": {},
   "outputs": [
    {
     "data": {
      "text/html": [
       "<div>\n",
       "<style scoped>\n",
       "    .dataframe tbody tr th:only-of-type {\n",
       "        vertical-align: middle;\n",
       "    }\n",
       "\n",
       "    .dataframe tbody tr th {\n",
       "        vertical-align: top;\n",
       "    }\n",
       "\n",
       "    .dataframe thead th {\n",
       "        text-align: right;\n",
       "    }\n",
       "</style>\n",
       "<table border=\"1\" class=\"dataframe\">\n",
       "  <thead>\n",
       "    <tr style=\"text-align: right;\">\n",
       "      <th></th>\n",
       "      <th>Clubes</th>\n",
       "      <th>Pontos</th>\n",
       "      <th>Partidas Jogadas</th>\n",
       "      <th>Vitorias</th>\n",
       "      <th>Empates</th>\n",
       "      <th>Derrotas</th>\n",
       "      <th>Gols Marcados</th>\n",
       "      <th>Gols Contra</th>\n",
       "      <th>Saldo de Gols</th>\n",
       "      <th>%</th>\n",
       "    </tr>\n",
       "  </thead>\n",
       "  <tbody>\n",
       "    <tr>\n",
       "      <th>1</th>\n",
       "      <td>Palmeiras</td>\n",
       "      <td>70</td>\n",
       "      <td>38</td>\n",
       "      <td>20</td>\n",
       "      <td>10</td>\n",
       "      <td>8</td>\n",
       "      <td>64</td>\n",
       "      <td>33</td>\n",
       "      <td>31</td>\n",
       "      <td>61</td>\n",
       "    </tr>\n",
       "    <tr>\n",
       "      <th>2</th>\n",
       "      <td>Grêmio</td>\n",
       "      <td>68</td>\n",
       "      <td>38</td>\n",
       "      <td>21</td>\n",
       "      <td>5</td>\n",
       "      <td>12</td>\n",
       "      <td>63</td>\n",
       "      <td>56</td>\n",
       "      <td>7</td>\n",
       "      <td>60</td>\n",
       "    </tr>\n",
       "    <tr>\n",
       "      <th>3</th>\n",
       "      <td>Atlético-MG</td>\n",
       "      <td>66</td>\n",
       "      <td>38</td>\n",
       "      <td>19</td>\n",
       "      <td>9</td>\n",
       "      <td>10</td>\n",
       "      <td>52</td>\n",
       "      <td>32</td>\n",
       "      <td>20</td>\n",
       "      <td>58</td>\n",
       "    </tr>\n",
       "    <tr>\n",
       "      <th>4</th>\n",
       "      <td>Flamengo</td>\n",
       "      <td>66</td>\n",
       "      <td>38</td>\n",
       "      <td>19</td>\n",
       "      <td>9</td>\n",
       "      <td>10</td>\n",
       "      <td>56</td>\n",
       "      <td>42</td>\n",
       "      <td>14</td>\n",
       "      <td>58</td>\n",
       "    </tr>\n",
       "    <tr>\n",
       "      <th>5</th>\n",
       "      <td>Botafogo</td>\n",
       "      <td>64</td>\n",
       "      <td>38</td>\n",
       "      <td>18</td>\n",
       "      <td>10</td>\n",
       "      <td>10</td>\n",
       "      <td>58</td>\n",
       "      <td>37</td>\n",
       "      <td>21</td>\n",
       "      <td>56</td>\n",
       "    </tr>\n",
       "  </tbody>\n",
       "</table>\n",
       "</div>"
      ],
      "text/plain": [
       "        Clubes Pontos Partidas Jogadas Vitorias Empates Derrotas  \\\n",
       "1    Palmeiras     70               38       20      10        8   \n",
       "2       Grêmio     68               38       21       5       12   \n",
       "3  Atlético-MG     66               38       19       9       10   \n",
       "4     Flamengo     66               38       19       9       10   \n",
       "5     Botafogo     64               38       18      10       10   \n",
       "\n",
       "  Gols Marcados Gols Contra Saldo de Gols   %  \n",
       "1            64          33            31  61  \n",
       "2            63          56             7  60  \n",
       "3            52          32            20  58  \n",
       "4            56          42            14  58  \n",
       "5            58          37            21  56  "
      ]
     },
     "execution_count": 21,
     "metadata": {},
     "output_type": "execute_result"
    }
   ],
   "source": [
    "brasileiro.head(5)"
   ]
  },
  {
   "cell_type": "code",
   "execution_count": 22,
   "id": "d2255a23",
   "metadata": {},
   "outputs": [],
   "source": [
    "file_name = f\"{str(date.today())}_tabela_brasileiro.xlsx\"\n",
    "brasileiro.to_excel(file_name)"
   ]
  }
 ],
 "metadata": {
  "kernelspec": {
   "display_name": "Python 3 (ipykernel)",
   "language": "python",
   "name": "python3"
  },
  "language_info": {
   "codemirror_mode": {
    "name": "ipython",
    "version": 3
   },
   "file_extension": ".py",
   "mimetype": "text/x-python",
   "name": "python",
   "nbconvert_exporter": "python",
   "pygments_lexer": "ipython3",
   "version": "3.11.5"
  }
 },
 "nbformat": 4,
 "nbformat_minor": 5
}
